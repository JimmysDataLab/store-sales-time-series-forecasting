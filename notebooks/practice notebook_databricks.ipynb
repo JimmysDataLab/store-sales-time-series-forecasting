{
 "cells": [
  {
   "cell_type": "markdown",
   "metadata": {
    "application/vnd.databricks.v1+cell": {
     "cellMetadata": {},
     "inputWidgets": {},
     "nuid": "96e4e5be-44a5-4826-a840-007a762a1ec0",
     "showTitle": false,
     "tableResultSettingsMap": {},
     "title": ""
    }
   },
   "source": [
    "# PRACTICE GROUND"
   ]
  },
  {
   "cell_type": "code",
   "execution_count": 0,
   "metadata": {
    "application/vnd.databricks.v1+cell": {
     "cellMetadata": {
      "byteLimit": 2048000,
      "rowLimit": 10000
     },
     "inputWidgets": {},
     "nuid": "07a398ed-ffed-470b-95e1-0d38e5693fbe",
     "showTitle": false,
     "tableResultSettingsMap": {},
     "title": ""
    }
   },
   "outputs": [
    {
     "output_type": "stream",
     "name": "stdout",
     "output_type": "stream",
     "text": [
      "Out[5]: False"
     ]
    }
   ],
   "source": [
    "%python\n",
    "dbutils.fs.rm(\"/FileStore/tables/store-sales-time-series-forecasting/oil-2.csv\", recurse=False)"
   ]
  },
  {
   "cell_type": "code",
   "execution_count": 0,
   "metadata": {
    "application/vnd.databricks.v1+cell": {
     "cellMetadata": {
      "byteLimit": 2048000,
      "implicitDf": true,
      "rowLimit": 10000
     },
     "inputWidgets": {},
     "nuid": "c2e239c8-100a-4791-b589-fd69876e39b3",
     "showTitle": false,
     "tableResultSettingsMap": {},
     "title": ""
    }
   },
   "outputs": [
    {
     "output_type": "display_data",
     "data": {
      "text/html": [
       "<style scoped>\n",
       "  .table-result-container {\n",
       "    max-height: 300px;\n",
       "    overflow: auto;\n",
       "  }\n",
       "  table, th, td {\n",
       "    border: 1px solid black;\n",
       "    border-collapse: collapse;\n",
       "  }\n",
       "  th, td {\n",
       "    padding: 5px;\n",
       "  }\n",
       "  th {\n",
       "    text-align: left;\n",
       "  }\n",
       "</style><div class='table-result-container'><table class='table-result'><thead style='background-color: white'><tr><th>id</th><th>date</th><th>store_nbr</th><th>family</th><th>sales</th><th>onpromotion</th></tr></thead><tbody><tr><td>648648</td><td>2014-01-01T00:00:00.000+0000</td><td>1</td><td>AUTOMOTIVE</td><td>0.0</td><td>0</td></tr><tr><td>648649</td><td>2014-01-01T00:00:00.000+0000</td><td>1</td><td>BABY CARE</td><td>0.0</td><td>0</td></tr><tr><td>648650</td><td>2014-01-01T00:00:00.000+0000</td><td>1</td><td>BEAUTY</td><td>0.0</td><td>0</td></tr><tr><td>648651</td><td>2014-01-01T00:00:00.000+0000</td><td>1</td><td>BEVERAGES</td><td>0.0</td><td>0</td></tr><tr><td>648652</td><td>2014-01-01T00:00:00.000+0000</td><td>1</td><td>BOOKS</td><td>0.0</td><td>0</td></tr><tr><td>648653</td><td>2014-01-01T00:00:00.000+0000</td><td>1</td><td>BREAD/BAKERY</td><td>0.0</td><td>0</td></tr><tr><td>648654</td><td>2014-01-01T00:00:00.000+0000</td><td>1</td><td>CELEBRATION</td><td>0.0</td><td>0</td></tr><tr><td>648655</td><td>2014-01-01T00:00:00.000+0000</td><td>1</td><td>CLEANING</td><td>0.0</td><td>0</td></tr><tr><td>648656</td><td>2014-01-01T00:00:00.000+0000</td><td>1</td><td>DAIRY</td><td>0.0</td><td>0</td></tr><tr><td>648657</td><td>2014-01-01T00:00:00.000+0000</td><td>1</td><td>DELI</td><td>0.0</td><td>0</td></tr><tr><td>648658</td><td>2014-01-01T00:00:00.000+0000</td><td>1</td><td>EGGS</td><td>0.0</td><td>0</td></tr><tr><td>648659</td><td>2014-01-01T00:00:00.000+0000</td><td>1</td><td>FROZEN FOODS</td><td>0.0</td><td>0</td></tr><tr><td>648660</td><td>2014-01-01T00:00:00.000+0000</td><td>1</td><td>GROCERY I</td><td>0.0</td><td>0</td></tr><tr><td>648661</td><td>2014-01-01T00:00:00.000+0000</td><td>1</td><td>GROCERY II</td><td>0.0</td><td>0</td></tr><tr><td>648662</td><td>2014-01-01T00:00:00.000+0000</td><td>1</td><td>HARDWARE</td><td>0.0</td><td>0</td></tr><tr><td>648663</td><td>2014-01-01T00:00:00.000+0000</td><td>1</td><td>HOME AND KITCHEN I</td><td>0.0</td><td>0</td></tr><tr><td>648664</td><td>2014-01-01T00:00:00.000+0000</td><td>1</td><td>HOME AND KITCHEN II</td><td>0.0</td><td>0</td></tr><tr><td>648665</td><td>2014-01-01T00:00:00.000+0000</td><td>1</td><td>HOME APPLIANCES</td><td>0.0</td><td>0</td></tr><tr><td>648666</td><td>2014-01-01T00:00:00.000+0000</td><td>1</td><td>HOME CARE</td><td>0.0</td><td>0</td></tr><tr><td>648667</td><td>2014-01-01T00:00:00.000+0000</td><td>1</td><td>LADIESWEAR</td><td>0.0</td><td>0</td></tr><tr><td>648668</td><td>2014-01-01T00:00:00.000+0000</td><td>1</td><td>LAWN AND GARDEN</td><td>0.0</td><td>0</td></tr><tr><td>648669</td><td>2014-01-01T00:00:00.000+0000</td><td>1</td><td>LINGERIE</td><td>0.0</td><td>0</td></tr><tr><td>648670</td><td>2014-01-01T00:00:00.000+0000</td><td>1</td><td>LIQUOR,WINE,BEER</td><td>0.0</td><td>0</td></tr><tr><td>648671</td><td>2014-01-01T00:00:00.000+0000</td><td>1</td><td>MAGAZINES</td><td>0.0</td><td>0</td></tr><tr><td>648672</td><td>2014-01-01T00:00:00.000+0000</td><td>1</td><td>MEATS</td><td>0.0</td><td>0</td></tr><tr><td>648673</td><td>2014-01-01T00:00:00.000+0000</td><td>1</td><td>PERSONAL CARE</td><td>0.0</td><td>0</td></tr><tr><td>648674</td><td>2014-01-01T00:00:00.000+0000</td><td>1</td><td>PET SUPPLIES</td><td>0.0</td><td>0</td></tr><tr><td>648675</td><td>2014-01-01T00:00:00.000+0000</td><td>1</td><td>PLAYERS AND ELECTRONICS</td><td>0.0</td><td>0</td></tr><tr><td>648676</td><td>2014-01-01T00:00:00.000+0000</td><td>1</td><td>POULTRY</td><td>0.0</td><td>0</td></tr><tr><td>648677</td><td>2014-01-01T00:00:00.000+0000</td><td>1</td><td>PREPARED FOODS</td><td>0.0</td><td>0</td></tr><tr><td>648678</td><td>2014-01-01T00:00:00.000+0000</td><td>1</td><td>PRODUCE</td><td>0.0</td><td>0</td></tr><tr><td>648679</td><td>2014-01-01T00:00:00.000+0000</td><td>1</td><td>SCHOOL AND OFFICE SUPPLIES</td><td>0.0</td><td>0</td></tr><tr><td>648680</td><td>2014-01-01T00:00:00.000+0000</td><td>1</td><td>SEAFOOD</td><td>0.0</td><td>0</td></tr><tr><td>648681</td><td>2014-01-01T00:00:00.000+0000</td><td>10</td><td>AUTOMOTIVE</td><td>0.0</td><td>0</td></tr><tr><td>648682</td><td>2014-01-01T00:00:00.000+0000</td><td>10</td><td>BABY CARE</td><td>0.0</td><td>0</td></tr><tr><td>648683</td><td>2014-01-01T00:00:00.000+0000</td><td>10</td><td>BEAUTY</td><td>0.0</td><td>0</td></tr><tr><td>648684</td><td>2014-01-01T00:00:00.000+0000</td><td>10</td><td>BEVERAGES</td><td>0.0</td><td>0</td></tr><tr><td>648685</td><td>2014-01-01T00:00:00.000+0000</td><td>10</td><td>BOOKS</td><td>0.0</td><td>0</td></tr><tr><td>648686</td><td>2014-01-01T00:00:00.000+0000</td><td>10</td><td>BREAD/BAKERY</td><td>0.0</td><td>0</td></tr><tr><td>648687</td><td>2014-01-01T00:00:00.000+0000</td><td>10</td><td>CELEBRATION</td><td>0.0</td><td>0</td></tr><tr><td>648688</td><td>2014-01-01T00:00:00.000+0000</td><td>10</td><td>CLEANING</td><td>0.0</td><td>0</td></tr><tr><td>648689</td><td>2014-01-01T00:00:00.000+0000</td><td>10</td><td>DAIRY</td><td>0.0</td><td>0</td></tr><tr><td>648690</td><td>2014-01-01T00:00:00.000+0000</td><td>10</td><td>DELI</td><td>0.0</td><td>0</td></tr><tr><td>648691</td><td>2014-01-01T00:00:00.000+0000</td><td>10</td><td>EGGS</td><td>0.0</td><td>0</td></tr><tr><td>648692</td><td>2014-01-01T00:00:00.000+0000</td><td>10</td><td>FROZEN FOODS</td><td>0.0</td><td>0</td></tr><tr><td>648693</td><td>2014-01-01T00:00:00.000+0000</td><td>10</td><td>GROCERY I</td><td>0.0</td><td>0</td></tr><tr><td>648694</td><td>2014-01-01T00:00:00.000+0000</td><td>10</td><td>GROCERY II</td><td>0.0</td><td>0</td></tr><tr><td>648695</td><td>2014-01-01T00:00:00.000+0000</td><td>10</td><td>HARDWARE</td><td>0.0</td><td>0</td></tr><tr><td>648696</td><td>2014-01-01T00:00:00.000+0000</td><td>10</td><td>HOME AND KITCHEN I</td><td>0.0</td><td>0</td></tr><tr><td>648697</td><td>2014-01-01T00:00:00.000+0000</td><td>10</td><td>HOME AND KITCHEN II</td><td>0.0</td><td>0</td></tr><tr><td>648698</td><td>2014-01-01T00:00:00.000+0000</td><td>10</td><td>HOME APPLIANCES</td><td>0.0</td><td>0</td></tr><tr><td>648699</td><td>2014-01-01T00:00:00.000+0000</td><td>10</td><td>HOME CARE</td><td>0.0</td><td>0</td></tr><tr><td>648700</td><td>2014-01-01T00:00:00.000+0000</td><td>10</td><td>LADIESWEAR</td><td>0.0</td><td>0</td></tr><tr><td>648701</td><td>2014-01-01T00:00:00.000+0000</td><td>10</td><td>LAWN AND GARDEN</td><td>0.0</td><td>0</td></tr><tr><td>648702</td><td>2014-01-01T00:00:00.000+0000</td><td>10</td><td>LINGERIE</td><td>0.0</td><td>0</td></tr><tr><td>648703</td><td>2014-01-01T00:00:00.000+0000</td><td>10</td><td>LIQUOR,WINE,BEER</td><td>0.0</td><td>0</td></tr><tr><td>648704</td><td>2014-01-01T00:00:00.000+0000</td><td>10</td><td>MAGAZINES</td><td>0.0</td><td>0</td></tr><tr><td>648705</td><td>2014-01-01T00:00:00.000+0000</td><td>10</td><td>MEATS</td><td>0.0</td><td>0</td></tr><tr><td>648706</td><td>2014-01-01T00:00:00.000+0000</td><td>10</td><td>PERSONAL CARE</td><td>0.0</td><td>0</td></tr><tr><td>648707</td><td>2014-01-01T00:00:00.000+0000</td><td>10</td><td>PET SUPPLIES</td><td>0.0</td><td>0</td></tr><tr><td>648708</td><td>2014-01-01T00:00:00.000+0000</td><td>10</td><td>PLAYERS AND ELECTRONICS</td><td>0.0</td><td>0</td></tr><tr><td>648709</td><td>2014-01-01T00:00:00.000+0000</td><td>10</td><td>POULTRY</td><td>0.0</td><td>0</td></tr><tr><td>648710</td><td>2014-01-01T00:00:00.000+0000</td><td>10</td><td>PREPARED FOODS</td><td>0.0</td><td>0</td></tr><tr><td>648711</td><td>2014-01-01T00:00:00.000+0000</td><td>10</td><td>PRODUCE</td><td>0.0</td><td>0</td></tr><tr><td>648712</td><td>2014-01-01T00:00:00.000+0000</td><td>10</td><td>SCHOOL AND OFFICE SUPPLIES</td><td>0.0</td><td>0</td></tr><tr><td>648713</td><td>2014-01-01T00:00:00.000+0000</td><td>10</td><td>SEAFOOD</td><td>0.0</td><td>0</td></tr><tr><td>648714</td><td>2014-01-01T00:00:00.000+0000</td><td>11</td><td>AUTOMOTIVE</td><td>0.0</td><td>0</td></tr><tr><td>648715</td><td>2014-01-01T00:00:00.000+0000</td><td>11</td><td>BABY CARE</td><td>0.0</td><td>0</td></tr><tr><td>648716</td><td>2014-01-01T00:00:00.000+0000</td><td>11</td><td>BEAUTY</td><td>0.0</td><td>0</td></tr><tr><td>648717</td><td>2014-01-01T00:00:00.000+0000</td><td>11</td><td>BEVERAGES</td><td>0.0</td><td>0</td></tr><tr><td>648718</td><td>2014-01-01T00:00:00.000+0000</td><td>11</td><td>BOOKS</td><td>0.0</td><td>0</td></tr><tr><td>648719</td><td>2014-01-01T00:00:00.000+0000</td><td>11</td><td>BREAD/BAKERY</td><td>0.0</td><td>0</td></tr><tr><td>648720</td><td>2014-01-01T00:00:00.000+0000</td><td>11</td><td>CELEBRATION</td><td>0.0</td><td>0</td></tr><tr><td>648721</td><td>2014-01-01T00:00:00.000+0000</td><td>11</td><td>CLEANING</td><td>0.0</td><td>0</td></tr><tr><td>648722</td><td>2014-01-01T00:00:00.000+0000</td><td>11</td><td>DAIRY</td><td>0.0</td><td>0</td></tr><tr><td>648723</td><td>2014-01-01T00:00:00.000+0000</td><td>11</td><td>DELI</td><td>0.0</td><td>0</td></tr><tr><td>648724</td><td>2014-01-01T00:00:00.000+0000</td><td>11</td><td>EGGS</td><td>0.0</td><td>0</td></tr><tr><td>648725</td><td>2014-01-01T00:00:00.000+0000</td><td>11</td><td>FROZEN FOODS</td><td>0.0</td><td>0</td></tr><tr><td>648726</td><td>2014-01-01T00:00:00.000+0000</td><td>11</td><td>GROCERY I</td><td>0.0</td><td>0</td></tr><tr><td>648727</td><td>2014-01-01T00:00:00.000+0000</td><td>11</td><td>GROCERY II</td><td>0.0</td><td>0</td></tr><tr><td>648728</td><td>2014-01-01T00:00:00.000+0000</td><td>11</td><td>HARDWARE</td><td>0.0</td><td>0</td></tr><tr><td>648729</td><td>2014-01-01T00:00:00.000+0000</td><td>11</td><td>HOME AND KITCHEN I</td><td>0.0</td><td>0</td></tr><tr><td>648730</td><td>2014-01-01T00:00:00.000+0000</td><td>11</td><td>HOME AND KITCHEN II</td><td>0.0</td><td>0</td></tr><tr><td>648731</td><td>2014-01-01T00:00:00.000+0000</td><td>11</td><td>HOME APPLIANCES</td><td>0.0</td><td>0</td></tr><tr><td>648732</td><td>2014-01-01T00:00:00.000+0000</td><td>11</td><td>HOME CARE</td><td>0.0</td><td>0</td></tr><tr><td>648733</td><td>2014-01-01T00:00:00.000+0000</td><td>11</td><td>LADIESWEAR</td><td>0.0</td><td>0</td></tr><tr><td>648734</td><td>2014-01-01T00:00:00.000+0000</td><td>11</td><td>LAWN AND GARDEN</td><td>0.0</td><td>0</td></tr><tr><td>648735</td><td>2014-01-01T00:00:00.000+0000</td><td>11</td><td>LINGERIE</td><td>0.0</td><td>0</td></tr><tr><td>648736</td><td>2014-01-01T00:00:00.000+0000</td><td>11</td><td>LIQUOR,WINE,BEER</td><td>0.0</td><td>0</td></tr><tr><td>648737</td><td>2014-01-01T00:00:00.000+0000</td><td>11</td><td>MAGAZINES</td><td>0.0</td><td>0</td></tr><tr><td>648738</td><td>2014-01-01T00:00:00.000+0000</td><td>11</td><td>MEATS</td><td>0.0</td><td>0</td></tr><tr><td>648739</td><td>2014-01-01T00:00:00.000+0000</td><td>11</td><td>PERSONAL CARE</td><td>0.0</td><td>0</td></tr><tr><td>648740</td><td>2014-01-01T00:00:00.000+0000</td><td>11</td><td>PET SUPPLIES</td><td>0.0</td><td>0</td></tr><tr><td>648741</td><td>2014-01-01T00:00:00.000+0000</td><td>11</td><td>PLAYERS AND ELECTRONICS</td><td>0.0</td><td>0</td></tr><tr><td>648742</td><td>2014-01-01T00:00:00.000+0000</td><td>11</td><td>POULTRY</td><td>0.0</td><td>0</td></tr><tr><td>648743</td><td>2014-01-01T00:00:00.000+0000</td><td>11</td><td>PREPARED FOODS</td><td>0.0</td><td>0</td></tr><tr><td>648744</td><td>2014-01-01T00:00:00.000+0000</td><td>11</td><td>PRODUCE</td><td>0.0</td><td>0</td></tr><tr><td>648745</td><td>2014-01-01T00:00:00.000+0000</td><td>11</td><td>SCHOOL AND OFFICE SUPPLIES</td><td>0.0</td><td>0</td></tr><tr><td>648746</td><td>2014-01-01T00:00:00.000+0000</td><td>11</td><td>SEAFOOD</td><td>0.0</td><td>0</td></tr><tr><td>648747</td><td>2014-01-01T00:00:00.000+0000</td><td>12</td><td>AUTOMOTIVE</td><td>0.0</td><td>0</td></tr></tbody></table></div>"
      ]
     },
     "metadata": {
      "application/vnd.databricks.v1+output": {
       "addedWidgets": {},
       "aggData": [],
       "aggError": "",
       "aggOverflow": false,
       "aggSchema": [],
       "aggSeriesLimitReached": false,
       "aggType": "",
       "arguments": {},
       "columnCustomDisplayInfos": {},
       "data": [
        [
         648648,
         "2014-01-01T00:00:00.000+0000",
         1,
         "AUTOMOTIVE",
         0.0,
         0
        ],
        [
         648649,
         "2014-01-01T00:00:00.000+0000",
         1,
         "BABY CARE",
         0.0,
         0
        ],
        [
         648650,
         "2014-01-01T00:00:00.000+0000",
         1,
         "BEAUTY",
         0.0,
         0
        ],
        [
         648651,
         "2014-01-01T00:00:00.000+0000",
         1,
         "BEVERAGES",
         0.0,
         0
        ],
        [
         648652,
         "2014-01-01T00:00:00.000+0000",
         1,
         "BOOKS",
         0.0,
         0
        ],
        [
         648653,
         "2014-01-01T00:00:00.000+0000",
         1,
         "BREAD/BAKERY",
         0.0,
         0
        ],
        [
         648654,
         "2014-01-01T00:00:00.000+0000",
         1,
         "CELEBRATION",
         0.0,
         0
        ],
        [
         648655,
         "2014-01-01T00:00:00.000+0000",
         1,
         "CLEANING",
         0.0,
         0
        ],
        [
         648656,
         "2014-01-01T00:00:00.000+0000",
         1,
         "DAIRY",
         0.0,
         0
        ],
        [
         648657,
         "2014-01-01T00:00:00.000+0000",
         1,
         "DELI",
         0.0,
         0
        ],
        [
         648658,
         "2014-01-01T00:00:00.000+0000",
         1,
         "EGGS",
         0.0,
         0
        ],
        [
         648659,
         "2014-01-01T00:00:00.000+0000",
         1,
         "FROZEN FOODS",
         0.0,
         0
        ],
        [
         648660,
         "2014-01-01T00:00:00.000+0000",
         1,
         "GROCERY I",
         0.0,
         0
        ],
        [
         648661,
         "2014-01-01T00:00:00.000+0000",
         1,
         "GROCERY II",
         0.0,
         0
        ],
        [
         648662,
         "2014-01-01T00:00:00.000+0000",
         1,
         "HARDWARE",
         0.0,
         0
        ],
        [
         648663,
         "2014-01-01T00:00:00.000+0000",
         1,
         "HOME AND KITCHEN I",
         0.0,
         0
        ],
        [
         648664,
         "2014-01-01T00:00:00.000+0000",
         1,
         "HOME AND KITCHEN II",
         0.0,
         0
        ],
        [
         648665,
         "2014-01-01T00:00:00.000+0000",
         1,
         "HOME APPLIANCES",
         0.0,
         0
        ],
        [
         648666,
         "2014-01-01T00:00:00.000+0000",
         1,
         "HOME CARE",
         0.0,
         0
        ],
        [
         648667,
         "2014-01-01T00:00:00.000+0000",
         1,
         "LADIESWEAR",
         0.0,
         0
        ],
        [
         648668,
         "2014-01-01T00:00:00.000+0000",
         1,
         "LAWN AND GARDEN",
         0.0,
         0
        ],
        [
         648669,
         "2014-01-01T00:00:00.000+0000",
         1,
         "LINGERIE",
         0.0,
         0
        ],
        [
         648670,
         "2014-01-01T00:00:00.000+0000",
         1,
         "LIQUOR,WINE,BEER",
         0.0,
         0
        ],
        [
         648671,
         "2014-01-01T00:00:00.000+0000",
         1,
         "MAGAZINES",
         0.0,
         0
        ],
        [
         648672,
         "2014-01-01T00:00:00.000+0000",
         1,
         "MEATS",
         0.0,
         0
        ],
        [
         648673,
         "2014-01-01T00:00:00.000+0000",
         1,
         "PERSONAL CARE",
         0.0,
         0
        ],
        [
         648674,
         "2014-01-01T00:00:00.000+0000",
         1,
         "PET SUPPLIES",
         0.0,
         0
        ],
        [
         648675,
         "2014-01-01T00:00:00.000+0000",
         1,
         "PLAYERS AND ELECTRONICS",
         0.0,
         0
        ],
        [
         648676,
         "2014-01-01T00:00:00.000+0000",
         1,
         "POULTRY",
         0.0,
         0
        ],
        [
         648677,
         "2014-01-01T00:00:00.000+0000",
         1,
         "PREPARED FOODS",
         0.0,
         0
        ],
        [
         648678,
         "2014-01-01T00:00:00.000+0000",
         1,
         "PRODUCE",
         0.0,
         0
        ],
        [
         648679,
         "2014-01-01T00:00:00.000+0000",
         1,
         "SCHOOL AND OFFICE SUPPLIES",
         0.0,
         0
        ],
        [
         648680,
         "2014-01-01T00:00:00.000+0000",
         1,
         "SEAFOOD",
         0.0,
         0
        ],
        [
         648681,
         "2014-01-01T00:00:00.000+0000",
         10,
         "AUTOMOTIVE",
         0.0,
         0
        ],
        [
         648682,
         "2014-01-01T00:00:00.000+0000",
         10,
         "BABY CARE",
         0.0,
         0
        ],
        [
         648683,
         "2014-01-01T00:00:00.000+0000",
         10,
         "BEAUTY",
         0.0,
         0
        ],
        [
         648684,
         "2014-01-01T00:00:00.000+0000",
         10,
         "BEVERAGES",
         0.0,
         0
        ],
        [
         648685,
         "2014-01-01T00:00:00.000+0000",
         10,
         "BOOKS",
         0.0,
         0
        ],
        [
         648686,
         "2014-01-01T00:00:00.000+0000",
         10,
         "BREAD/BAKERY",
         0.0,
         0
        ],
        [
         648687,
         "2014-01-01T00:00:00.000+0000",
         10,
         "CELEBRATION",
         0.0,
         0
        ],
        [
         648688,
         "2014-01-01T00:00:00.000+0000",
         10,
         "CLEANING",
         0.0,
         0
        ],
        [
         648689,
         "2014-01-01T00:00:00.000+0000",
         10,
         "DAIRY",
         0.0,
         0
        ],
        [
         648690,
         "2014-01-01T00:00:00.000+0000",
         10,
         "DELI",
         0.0,
         0
        ],
        [
         648691,
         "2014-01-01T00:00:00.000+0000",
         10,
         "EGGS",
         0.0,
         0
        ],
        [
         648692,
         "2014-01-01T00:00:00.000+0000",
         10,
         "FROZEN FOODS",
         0.0,
         0
        ],
        [
         648693,
         "2014-01-01T00:00:00.000+0000",
         10,
         "GROCERY I",
         0.0,
         0
        ],
        [
         648694,
         "2014-01-01T00:00:00.000+0000",
         10,
         "GROCERY II",
         0.0,
         0
        ],
        [
         648695,
         "2014-01-01T00:00:00.000+0000",
         10,
         "HARDWARE",
         0.0,
         0
        ],
        [
         648696,
         "2014-01-01T00:00:00.000+0000",
         10,
         "HOME AND KITCHEN I",
         0.0,
         0
        ],
        [
         648697,
         "2014-01-01T00:00:00.000+0000",
         10,
         "HOME AND KITCHEN II",
         0.0,
         0
        ],
        [
         648698,
         "2014-01-01T00:00:00.000+0000",
         10,
         "HOME APPLIANCES",
         0.0,
         0
        ],
        [
         648699,
         "2014-01-01T00:00:00.000+0000",
         10,
         "HOME CARE",
         0.0,
         0
        ],
        [
         648700,
         "2014-01-01T00:00:00.000+0000",
         10,
         "LADIESWEAR",
         0.0,
         0
        ],
        [
         648701,
         "2014-01-01T00:00:00.000+0000",
         10,
         "LAWN AND GARDEN",
         0.0,
         0
        ],
        [
         648702,
         "2014-01-01T00:00:00.000+0000",
         10,
         "LINGERIE",
         0.0,
         0
        ],
        [
         648703,
         "2014-01-01T00:00:00.000+0000",
         10,
         "LIQUOR,WINE,BEER",
         0.0,
         0
        ],
        [
         648704,
         "2014-01-01T00:00:00.000+0000",
         10,
         "MAGAZINES",
         0.0,
         0
        ],
        [
         648705,
         "2014-01-01T00:00:00.000+0000",
         10,
         "MEATS",
         0.0,
         0
        ],
        [
         648706,
         "2014-01-01T00:00:00.000+0000",
         10,
         "PERSONAL CARE",
         0.0,
         0
        ],
        [
         648707,
         "2014-01-01T00:00:00.000+0000",
         10,
         "PET SUPPLIES",
         0.0,
         0
        ],
        [
         648708,
         "2014-01-01T00:00:00.000+0000",
         10,
         "PLAYERS AND ELECTRONICS",
         0.0,
         0
        ],
        [
         648709,
         "2014-01-01T00:00:00.000+0000",
         10,
         "POULTRY",
         0.0,
         0
        ],
        [
         648710,
         "2014-01-01T00:00:00.000+0000",
         10,
         "PREPARED FOODS",
         0.0,
         0
        ],
        [
         648711,
         "2014-01-01T00:00:00.000+0000",
         10,
         "PRODUCE",
         0.0,
         0
        ],
        [
         648712,
         "2014-01-01T00:00:00.000+0000",
         10,
         "SCHOOL AND OFFICE SUPPLIES",
         0.0,
         0
        ],
        [
         648713,
         "2014-01-01T00:00:00.000+0000",
         10,
         "SEAFOOD",
         0.0,
         0
        ],
        [
         648714,
         "2014-01-01T00:00:00.000+0000",
         11,
         "AUTOMOTIVE",
         0.0,
         0
        ],
        [
         648715,
         "2014-01-01T00:00:00.000+0000",
         11,
         "BABY CARE",
         0.0,
         0
        ],
        [
         648716,
         "2014-01-01T00:00:00.000+0000",
         11,
         "BEAUTY",
         0.0,
         0
        ],
        [
         648717,
         "2014-01-01T00:00:00.000+0000",
         11,
         "BEVERAGES",
         0.0,
         0
        ],
        [
         648718,
         "2014-01-01T00:00:00.000+0000",
         11,
         "BOOKS",
         0.0,
         0
        ],
        [
         648719,
         "2014-01-01T00:00:00.000+0000",
         11,
         "BREAD/BAKERY",
         0.0,
         0
        ],
        [
         648720,
         "2014-01-01T00:00:00.000+0000",
         11,
         "CELEBRATION",
         0.0,
         0
        ],
        [
         648721,
         "2014-01-01T00:00:00.000+0000",
         11,
         "CLEANING",
         0.0,
         0
        ],
        [
         648722,
         "2014-01-01T00:00:00.000+0000",
         11,
         "DAIRY",
         0.0,
         0
        ],
        [
         648723,
         "2014-01-01T00:00:00.000+0000",
         11,
         "DELI",
         0.0,
         0
        ],
        [
         648724,
         "2014-01-01T00:00:00.000+0000",
         11,
         "EGGS",
         0.0,
         0
        ],
        [
         648725,
         "2014-01-01T00:00:00.000+0000",
         11,
         "FROZEN FOODS",
         0.0,
         0
        ],
        [
         648726,
         "2014-01-01T00:00:00.000+0000",
         11,
         "GROCERY I",
         0.0,
         0
        ],
        [
         648727,
         "2014-01-01T00:00:00.000+0000",
         11,
         "GROCERY II",
         0.0,
         0
        ],
        [
         648728,
         "2014-01-01T00:00:00.000+0000",
         11,
         "HARDWARE",
         0.0,
         0
        ],
        [
         648729,
         "2014-01-01T00:00:00.000+0000",
         11,
         "HOME AND KITCHEN I",
         0.0,
         0
        ],
        [
         648730,
         "2014-01-01T00:00:00.000+0000",
         11,
         "HOME AND KITCHEN II",
         0.0,
         0
        ],
        [
         648731,
         "2014-01-01T00:00:00.000+0000",
         11,
         "HOME APPLIANCES",
         0.0,
         0
        ],
        [
         648732,
         "2014-01-01T00:00:00.000+0000",
         11,
         "HOME CARE",
         0.0,
         0
        ],
        [
         648733,
         "2014-01-01T00:00:00.000+0000",
         11,
         "LADIESWEAR",
         0.0,
         0
        ],
        [
         648734,
         "2014-01-01T00:00:00.000+0000",
         11,
         "LAWN AND GARDEN",
         0.0,
         0
        ],
        [
         648735,
         "2014-01-01T00:00:00.000+0000",
         11,
         "LINGERIE",
         0.0,
         0
        ],
        [
         648736,
         "2014-01-01T00:00:00.000+0000",
         11,
         "LIQUOR,WINE,BEER",
         0.0,
         0
        ],
        [
         648737,
         "2014-01-01T00:00:00.000+0000",
         11,
         "MAGAZINES",
         0.0,
         0
        ],
        [
         648738,
         "2014-01-01T00:00:00.000+0000",
         11,
         "MEATS",
         0.0,
         0
        ],
        [
         648739,
         "2014-01-01T00:00:00.000+0000",
         11,
         "PERSONAL CARE",
         0.0,
         0
        ],
        [
         648740,
         "2014-01-01T00:00:00.000+0000",
         11,
         "PET SUPPLIES",
         0.0,
         0
        ],
        [
         648741,
         "2014-01-01T00:00:00.000+0000",
         11,
         "PLAYERS AND ELECTRONICS",
         0.0,
         0
        ],
        [
         648742,
         "2014-01-01T00:00:00.000+0000",
         11,
         "POULTRY",
         0.0,
         0
        ],
        [
         648743,
         "2014-01-01T00:00:00.000+0000",
         11,
         "PREPARED FOODS",
         0.0,
         0
        ],
        [
         648744,
         "2014-01-01T00:00:00.000+0000",
         11,
         "PRODUCE",
         0.0,
         0
        ],
        [
         648745,
         "2014-01-01T00:00:00.000+0000",
         11,
         "SCHOOL AND OFFICE SUPPLIES",
         0.0,
         0
        ],
        [
         648746,
         "2014-01-01T00:00:00.000+0000",
         11,
         "SEAFOOD",
         0.0,
         0
        ],
        [
         648747,
         "2014-01-01T00:00:00.000+0000",
         12,
         "AUTOMOTIVE",
         0.0,
         0
        ]
       ],
       "datasetInfos": [],
       "dbfsResultPath": null,
       "isJsonSchema": true,
       "metadata": {},
       "overflow": false,
       "plotOptions": {
        "customPlotOptions": {},
        "displayType": "table",
        "pivotAggregation": null,
        "pivotColumns": null,
        "xColumns": null,
        "yColumns": null
       },
       "removedWidgets": [],
       "schema": [
        {
         "metadata": "{}",
         "name": "id",
         "type": "\"integer\""
        },
        {
         "metadata": "{}",
         "name": "date",
         "type": "\"timestamp\""
        },
        {
         "metadata": "{}",
         "name": "store_nbr",
         "type": "\"integer\""
        },
        {
         "metadata": "{}",
         "name": "family",
         "type": "\"string\""
        },
        {
         "metadata": "{}",
         "name": "sales",
         "type": "\"float\""
        },
        {
         "metadata": "{}",
         "name": "onpromotion",
         "type": "\"integer\""
        }
       ],
       "type": "table"
      }
     },
     "output_type": "display_data"
    }
   ],
   "source": [
    "%sql\n",
    "\n",
    "SELECT * \n",
    "FROM train\n",
    "WHERE year(`date`) BETWEEN 2014 AND 2015\n",
    "LIMIT 100"
   ]
  },
  {
   "cell_type": "code",
   "execution_count": 0,
   "metadata": {
    "application/vnd.databricks.v1+cell": {
     "cellMetadata": {
      "byteLimit": 2048000,
      "rowLimit": 10000
     },
     "inputWidgets": {},
     "nuid": "2847d3f2-2ca0-4e09-a549-2bb106a43af9",
     "showTitle": false,
     "tableResultSettingsMap": {},
     "title": ""
    }
   },
   "outputs": [
    {
     "output_type": "display_data",
     "data": {
      "application/vnd.databricks.v1+bamboolib_hint": "{\"pd.DataFrames\": [], \"version\": \"0.0.1\"}",
      "text/plain": []
     },
     "metadata": {},
     "output_type": "display_data"
    }
   ],
   "source": [
    "%python\n",
    "import pandas as pd"
   ]
  }
 ],
 "metadata": {
  "application/vnd.databricks.v1+notebook": {
   "computePreferences": null,
   "dashboards": [],
   "environmentMetadata": {
    "base_environment": "",
    "client": "1"
   },
   "language": "python",
   "notebookMetadata": {
    "mostRecentlyExecutedCommandWithImplicitDF": {
     "commandId": 2492757520495519,
     "dataframes": [
      "_sqldf"
     ]
    },
    "pythonIndentUnit": 4
   },
   "notebookName": "practice notebook",
   "widgets": {}
  }
 },
 "nbformat": 4,
 "nbformat_minor": 0
}
